{
 "cells": [
  {
   "cell_type": "code",
   "execution_count": 1,
   "metadata": {},
   "outputs": [],
   "source": [
    "#DiamondCalc.py created 2/27/2023 by BWM and EGM\n",
    "#program to calculate heat load and current in diamond devices\n",
    "\n",
    "import numpy as np\n",
    "import os\n",
    "import matplotlib.pyplot as plt\n",
    "import math\n",
    "cwd = os.getcwd()\n",
    "\n",
    "##############################################\n",
    "#Get elemental data in and properly formed\n",
    "##############################################\n",
    "carbon = np.loadtxt((cwd + \"/sourceData/carbon.txt\"), dtype = float,comments =\"#\",)\n",
    "pt = np.loadtxt((cwd + \"/sourceData/pt.txt\"), dtype = float,comments =\"#\",)\n",
    "al = np.loadtxt((cwd + \"/sourceData/al.txt\"), dtype = float,comments =\"#\",)\n",
    "###############################################\n",
    "# Constants\n",
    "###############################################\n",
    "densC = 3.15 #g/cm^3\n",
    "densPt = 21.4 #g/cm^3\n",
    "densAl = 2.7 #g/cm^3\n",
    "enConv = 1.60218e-19 #eV per Joule\n",
    "coulPerElec =  6.28e18  #elec per s for amp\n",
    "micro_cm = 1e-4 # microns to cm conversion\n",
    "nano_cm = 1e-7 # nm to cm conversion\n",
    "ToMev= 1e-6\n",
    "freeCarrier = 13.2 #energy to make electorn whole pairs in diamond\n",
    "################################################\n",
    "\n",
    "\n",
    "def MAdevice_perf_al (diamon_thick, metal_thick,energy, flux):\n",
    "    bias = 10 #bias on dimaond\n",
    "    coefAl = np.interp((energy*ToMev), al[:,0], al[:,2])\n",
    "    coefC = np.interp((energy*ToMev), carbon[:,0], carbon[:,2])\n",
    "    transAl = (math.exp(-coefAl*metal_thick*nano_cm*densPt))\n",
    "    ptLayerAbs = (flux * (1-transAl))\n",
    "    flux_to_diamond =flux-ptLayerAbs\n",
    "    transC = (math.exp(-coefC*diamon_thick*micro_cm*densC))\n",
    "    cLayerAbs = flux_to_diamond * (1-transC)\n",
    "    current = (cLayerAbs * energy * enConv/ (freeCarrier))\n",
    "    absHeat = (ptLayerAbs * 2 + cLayerAbs) * energy * enConv\n",
    "    jouleHeat = current * bias\n",
    "    heatLoad = absHeat + jouleHeat \n",
    "    absAlall = (1-transAl) * 2\n",
    "    absC = 1-transC\n",
    "    return current , heatLoad, absAlall, absC\n",
    "\n",
    "def MAdevice_perf_pt (diamon_thick, metal_thick,energy, flux):\n",
    "    bias = 10 #bias on dimaond\n",
    "    coefC = np.interp((energy*ToMev), carbon[:,0], carbon[:,2])\n",
    "    coefPt = np.interp((energy*ToMev), pt[:,0], pt[:,2])\n",
    "    transPt = (math.exp(-coefPt*metal_thick*nano_cm*densPt))\n",
    "    ptLayerAbs = (flux * (1-transPt))\n",
    "    flux_to_diamond =flux-ptLayerAbs\n",
    "    transC = (math.exp(-coefC*diamon_thick*micro_cm*densC))\n",
    "    cLayerAbs = flux_to_diamond * (1-transC)\n",
    "    current = (cLayerAbs * energy * enConv/ (freeCarrier))\n",
    "    absHeat = (ptLayerAbs * 2 + cLayerAbs) * energy * enConv\n",
    "    jouleHeat = current * bias\n",
    "    totalHeat = absHeat + jouleHeat \n",
    "    absPtall = (1-transPt) * 2\n",
    "    absC = 1-transC\n",
    "    return current , totalHeat, absPtall, absC, absHeat\n",
    "\n",
    "\n",
    "\n",
    "\n",
    "   \n",
    "\n"
   ]
  },
  {
   "attachments": {},
   "cell_type": "markdown",
   "metadata": {},
   "source": [
    "## How to use\n",
    "MAdevice_perf_pt returns a tuple. \n",
    "- 0 = current\n",
    "- 1 = heatload \n",
    "- 2 = absorbtion in both metal layers\n",
    "- 3 = absorbtion in diamond"
   ]
  },
  {
   "cell_type": "code",
   "execution_count": 8,
   "metadata": {},
   "outputs": [
    {
     "name": "stdout",
     "output_type": "stream",
     "text": [
      "total load on diamond us 2.539498905748913\n"
     ]
    }
   ],
   "source": [
    "totFlux = 1.6e16\n",
    "steps = 11\n",
    "totHeat = 0\n",
    "for eneg in range(steps):\n",
    "    eneV = (eneg + 5)*1000\n",
    "    flux = totFlux/steps\n",
    "    MADevice = MAdevice_perf_pt(45,30,eneV,flux)\n",
    "    totHeat = totHeat + (MADevice[1])\n",
    "\n",
    "print( \"total load on diamond us {}\".format (totHeat) ) \n",
    "    \n",
    "        \n"
   ]
  },
  {
   "cell_type": "code",
   "execution_count": null,
   "metadata": {},
   "outputs": [],
   "source": [
    "list2 = {4.8:1e25,7:1e15,30:1e13, 9:1e15}\n",
    "for eneg in list2:\n",
    "        eneV = eneg*1000\n",
    "        flux = list2[eneg]\n",
    "        MADevice = MAdevice_perf_pt(45,30,eneV,flux)\n",
    "        totPow = (MADevice[2]+MADevice[3]) * eneV * enConv\n",
    "        \n",
    "        print (\"for Energy {} keV with {:1.2e} ph/s \\nExpected Currnet {:1.2e} A, Expected Heat {:1.2e} W, Absorbed energy in Device {:1.2e} W\\n\".format(eneg, flux,MADevice[0], MADevice[1], MADevice[4]))"
   ]
  },
  {
   "cell_type": "code",
   "execution_count": null,
   "metadata": {},
   "outputs": [],
   "source": [
    "\n",
    "eneV = 3000\n",
    "flux = 2e15\n",
    "MADevice = MAdevice_perf_pt(45,30,eneV,flux)\n",
    "totPow = (MADevice[2]+MADevice[3]) * eneV * enConv\n",
    "\n",
    "print (\"for Energy {} keV with {:1.2e} ph/s \\nExpected Currnet {:1.2e} A, Expected Heat {:1.2e} W, Absorbed energy in Device {:1.2e} W\\n\".format(eneV, flux,MADevice[0], MADevice[1], MADevice[4]))"
   ]
  }
 ],
 "metadata": {
  "kernelspec": {
   "display_name": "Python 3",
   "language": "python",
   "name": "python3"
  },
  "language_info": {
   "codemirror_mode": {
    "name": "ipython",
    "version": 3
   },
   "file_extension": ".py",
   "mimetype": "text/x-python",
   "name": "python",
   "nbconvert_exporter": "python",
   "pygments_lexer": "ipython3",
   "version": "3.11.2"
  },
  "orig_nbformat": 4
 },
 "nbformat": 4,
 "nbformat_minor": 2
}
