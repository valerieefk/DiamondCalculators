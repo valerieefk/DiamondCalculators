{
 "cells": [
  {
   "attachments": {},
   "cell_type": "markdown",
   "metadata": {},
   "source": [
    "### Program to calculate all things diamonds"
   ]
  },
  {
   "attachments": {},
   "cell_type": "markdown",
   "metadata": {},
   "source": [
    "#### Define functions for Diamond Calculations"
   ]
  },
  {
   "cell_type": "code",
   "execution_count": 4,
   "metadata": {},
   "outputs": [],
   "source": [
    "#DiamondCalc.py created 2/27/2023 by BWM and EGM\n",
    "#program to calculate heat load and current in diamond devices\n",
    "\n",
    "import numpy as np\n",
    "import os\n",
    "import matplotlib.pyplot as plt\n",
    "import math\n",
    "cwd = os.getcwd()\n",
    "\n",
    "##############################################\n",
    "#Get elemental data in and properly formed\n",
    "##############################################\n",
    "carbon = np.loadtxt((cwd + \"/sourceData/carbon.txt\"), dtype = float,comments =\"#\",)\n",
    "pt = np.loadtxt((cwd + \"/sourceData/pt.txt\"), dtype = float,comments =\"#\",)\n",
    "al = np.loadtxt((cwd + \"/sourceData/al.txt\"), dtype = float,comments =\"#\",)\n",
    "###############################################\n",
    "# Constants\n",
    "###############################################\n",
    "densC = 3.15 #g/cm^3\n",
    "densPt = 21.4 #g/cm^3\n",
    "densAl = 2.7 #g/cm^3\n",
    "enConv = 1.60218e-19 #eV per Joule\n",
    "coulPerElec =  6.28e18  #elec per s for amp\n",
    "micro_cm = 1e-4 # microns to cm conversion\n",
    "nano_cm = 1e-7 # nm to cm conversion\n",
    "ToMev= 1e-6\n",
    "freeCarrier = 13.2 #energy to make electorn whole pairs in diamond\n",
    "################################################\n",
    "\n",
    "\n",
    "def MAdevice_perf_al (diamon_thick, metal_thick,energy, flux):\n",
    "    bias = 10 #bias on dimaond\n",
    "    coefAl = np.interp((energy*ToMev), al[:,0], al[:,2])\n",
    "    coefC = np.interp((energy*ToMev), carbon[:,0], carbon[:,2])\n",
    "    transAl = (math.exp(-coefAl*metal_thick*nano_cm*densPt))\n",
    "    ptLayerAbs = (flux * (1-transAl))\n",
    "    flux_to_diamond =flux-ptLayerAbs\n",
    "    transC = (math.exp(-coefC*diamon_thick*micro_cm*densC))\n",
    "    cLayerAbs = flux_to_diamond * (1-transC)\n",
    "    current = (cLayerAbs * energy * enConv/ (freeCarrier))\n",
    "    absHeat = (ptLayerAbs * 2 + cLayerAbs) * energy * enConv\n",
    "    jouleHeat = current * bias\n",
    "    heatLoad = absHeat + jouleHeat \n",
    "    absAlall = (1-transAl) * 2\n",
    "    absC = 1-transC\n",
    "    return current , heatLoad, absAlall, absC\n",
    "\n",
    "def MAdevice_perf_pt (diamon_thick, metal_thick,energy, flux):\n",
    "    bias = 10 #bias on dimaond\n",
    "    coefC = np.interp((energy*ToMev), carbon[:,0], carbon[:,2])\n",
    "    coefPt = np.interp((energy*ToMev), pt[:,0], pt[:,2])\n",
    "    transPt = (math.exp(-coefPt*metal_thick*nano_cm*densPt))\n",
    "    ptLayerAbs = (flux * (1-transPt))\n",
    "    flux_to_diamond =flux-ptLayerAbs\n",
    "    transC = (math.exp(-coefC*diamon_thick*micro_cm*densC))\n",
    "    cLayerAbs = flux_to_diamond * (1-transC)\n",
    "    current = (cLayerAbs * energy * enConv/ (freeCarrier))\n",
    "    absHeat = (ptLayerAbs * 2 + cLayerAbs) * energy * enConv\n",
    "    jouleHeat = current * bias\n",
    "    totalHeat = absHeat + jouleHeat \n",
    "    absPtall = (1-transPt) * 2\n",
    "    absC = 1-transC\n",
    "    return current , totalHeat, absPtall, absC, absHeat\n",
    "\n"
   ]
  },
  {
   "cell_type": "markdown",
   "metadata": {},
   "source": [
    "## How to use\n",
    "MAdevice_perf_pt returns a tuple. \n",
    "- 0 = current\n",
    "- 1 = heatload \n",
    "- 2 = absorbtion in both metal layers\n",
    "- 3 = absorbtion in diamond"
   ]
  },
  {
   "cell_type": "code",
   "execution_count": 3,
   "metadata": {},
   "outputs": [
    {
     "name": "stdout",
     "output_type": "stream",
     "text": [
      "0.03963673595198114\n",
      "4.719e-08\n",
      "5.830e-08\n"
     ]
    }
   ],
   "source": [
    "MAnumHigh = MAdevice_perf_pt(40,30,10000,5e8)\n",
    "# MAnumlow = MAdevice_perf_al(40,100,8000,1e15)\n",
    "tranHigh = Tran_device_perf_pt (8000,5e8)\n",
    "transAll = MAnumHigh[2] + MAnumHigh[3]\n",
    "print(transAll)\n",
    "# tranLow = Tran_device_perf_al (8000,1e15)\n",
    "# print (\"\\nMass atenuation method high energy current is {:e} A, heat {:e} W.\\n low energy current {:e} A, heat {:e} W\\n\".format(MAnumHigh[0],MAnumHigh[1],MAnumlow[0],MAnumlow[1]))\n",
    "# print (\"Transmission method high energy current is {:e} A, heat {:e} W.\\n low energy current {:e} A, heat {:e} W\\n\".format(tranHigh[0], tranHigh[1], tranLow[0], tranLow[1]))\n",
    "print(\"{:1.3e}\".format(MAnumHigh[1]))\n",
    "print(\"{:1.3e}\".format(tranHigh[1]))"
   ]
  }
 ],
 "metadata": {
  "kernelspec": {
   "display_name": "Python 3",
   "language": "python",
   "name": "python3"
  },
  "language_info": {
   "codemirror_mode": {
    "name": "ipython",
    "version": 3
   },
   "file_extension": ".py",
   "mimetype": "text/x-python",
   "name": "python",
   "nbconvert_exporter": "python",
   "pygments_lexer": "ipython3",
   "version": "3.11.2"
  },
  "orig_nbformat": 4
 },
 "nbformat": 4,
 "nbformat_minor": 2
}
