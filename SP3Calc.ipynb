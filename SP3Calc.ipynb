{
 "cells": [
  {
   "attachments": {},
   "cell_type": "markdown",
   "metadata": {},
   "source": [
    "### Program to calculate all things diamonds"
   ]
  },
  {
   "cell_type": "code",
   "execution_count": 1,
   "metadata": {},
   "outputs": [],
   "source": [
    "import numpy as np\n",
    "import os\n",
    "import matplotlib.pyplot as plt\n",
    "import math\n",
    "cwd = os.getcwd()\n",
    "\n",
    "# this gives you transmission and heat load for bpms at whatever conditions you tell it. \n",
    "\n",
    "##############################################\n",
    "#Get elemental data in and properly formed\n",
    "##############################################\n",
    "carbon = np.loadtxt((cwd + \"/sourceData/carbon.txt\"), dtype = float,comments =\"#\",)\n",
    "pt = np.loadtxt((cwd + \"/sourceData/pt.txt\"), dtype = float,comments =\"#\",)\n",
    "al = np.loadtxt((cwd + \"/sourceData/al.txt\"), dtype = float,comments =\"#\",)\n",
    "carbonT = np.loadtxt((cwd + \"/sourceData/carbonTrans.txt\"), dtype = float,comments =\"#\",)\n",
    "ptT = np.loadtxt((cwd + \"/sourceData/PtTrans.txt\"), dtype = float,comments =\"#\",)\n",
    "alT = np.loadtxt((cwd + \"/sourceData/alTrans.txt\"), dtype = float,comments =\"#\",)\n",
    "###############################################\n",
    "# Constants\n",
    "###############################################\n",
    "densC = 3.15 #g/cm^3\n",
    "densPt = 21.4 #g/cm^3\n",
    "densAl = 2.7 #g/cm^3\n",
    "enConv = 1.60218e-19 #eV per Joule\n",
    "coulPerElec =  6.28e18  #elec per s for amp\n",
    "micro_cm = 1e-4 # microns to cm conversion\n",
    "nano_cm = 1e-7 # nm to cm conversion\n",
    "ToMev= 1e-6\n",
    "freeCarrier = 13.2 #energy to make electorn hole pairs in diamond\n",
    "################################################"
   ]
  },
  {
   "attachments": {},
   "cell_type": "markdown",
   "metadata": {},
   "source": [
    "#### Define functions for Diamond Calculations"
   ]
  },
  {
   "cell_type": "code",
   "execution_count": 2,
   "metadata": {},
   "outputs": [],
   "source": [
    "def MAdevice_perf_al (diamon_thick, metal_thick,energy, flux):\n",
    "    bias = 10 #bias on dimaond\n",
    "    coefC = np.interp((energy*ToMev), carbon[:,0], carbon[:,2])\n",
    "    coefAl = np.interp((energy*ToMev), al[:,0], al[:,2])\n",
    "    transAl = (math.exp(-coefAl*metal_thick*nano_cm*densAl))\n",
    "    alLayerAbs = (flux * (1-transAl))\n",
    "    alLayerAbs = (flux * (1-(math.exp(-coefAl*metal_thick*nano_cm*densAl))))\n",
    "    flux_to_diamond =flux-alLayerAbs\n",
    "    transC = (math.exp(-coefC*diamon_thick*micro_cm*densC))\n",
    "    cLayerAbs = flux_to_diamond * (1-(math.exp(-coefC*diamon_thick*micro_cm*densC)))\n",
    "    current = (cLayerAbs * energy * enConv/ (freeCarrier))\n",
    "    absHeat = (alLayerAbs * 2 + cLayerAbs)*energy*enConv\n",
    "    jouleHeat = current * bias\n",
    "    heatLoad = absHeat + jouleHeat \n",
    "    absAlall = (1-transAl) * 2\n",
    "    absC = 1-transC\n",
    "    return current , heatLoad, absAlall, absC\n",
    "\n",
    "def MAdevice_perf_pt (diamon_thick, metal_thick,energy, flux):\n",
    "    bias = 10 #bias on dimaond\n",
    "    coefC = np.interp((energy*ToMev), carbon[:,0], carbon[:,2])\n",
    "    coefPt = np.interp((energy*ToMev), pt[:,0], pt[:,2])\n",
    "    transPt = (math.exp(-coefPt*metal_thick*nano_cm*densPt))\n",
    "    ptLayerAbs = (flux * (1-transPt))\n",
    "    flux_to_diamond =flux-ptLayerAbs\n",
    "    transC = (math.exp(-coefC*diamon_thick*micro_cm*densC))\n",
    "    cLayerAbs = flux_to_diamond * (1-transC)\n",
    "    current = (cLayerAbs * energy * enConv/ (freeCarrier))\n",
    "    absHeat = (ptLayerAbs * 2 + cLayerAbs) * energy * enConv\n",
    "    jouleHeat = current * bias\n",
    "    heatLoad = absHeat + jouleHeat \n",
    "    absPtall = (1-transPt) * 2\n",
    "    absC = 1-transC\n",
    "    return current , heatLoad, absPtall, absC\n",
    "\n",
    "def Tran_device_perf_pt (energy, flux):\n",
    "    bias = 10 #bias on dimaond\n",
    "    coefC = np.interp((energy), carbonT[:,0], carbonT[:,1])\n",
    "    coefPt = np.interp((energy), ptT[:,0], ptT[:,1])\n",
    "    ptLayerAbs = (flux * (1-coefPt))\n",
    "    flux_to_diamond =flux-ptLayerAbs\n",
    "    cLayerAbs = flux_to_diamond * (1-coefC)\n",
    "    current = (cLayerAbs * energy * enConv) /(freeCarrier)\n",
    "    absHeat = (ptLayerAbs * 2 + cLayerAbs) * energy * enConv\n",
    "    jouleHeat = current * bias\n",
    "    heatLoad = absHeat + jouleHeat \n",
    "    absPtall = (1-coefPt)*2\n",
    "    absC = 1-coefC\n",
    "    return current , heatLoad, absPtall, absC\n",
    "\n",
    "def Tran_device_perf_al (energy, flux):\n",
    "    bias = 10 #bias on dimaond\n",
    "    coefC = np.interp((energy), carbonT[:,0], carbonT[:,1])\n",
    "    coefAl = np.interp((energy), alT[:,0], alT[:,1])\n",
    "    alLayerAbs = (flux * (1-coefAl))\n",
    "    flux_to_diamond =flux-alLayerAbs\n",
    "    cLayerAbs = flux_to_diamond * (1-coefC)\n",
    "    current = (cLayerAbs * energy * enConv)/(freeCarrier)\n",
    "    absHeat = (alLayerAbs * 2 + cLayerAbs) * energy * enConv\n",
    "    jouleHeat = current * bias\n",
    "    heatLoad = absHeat + jouleHeat \n",
    "    return current , heatLoad"
   ]
  },
  {
   "cell_type": "code",
   "execution_count": 3,
   "metadata": {},
   "outputs": [
    {
     "name": "stdout",
     "output_type": "stream",
     "text": [
      "0.03963673595198114\n",
      "4.719e-08\n",
      "5.830e-08\n"
     ]
    }
   ],
   "source": [
    "# old cell with stuff from other analysis \n",
    "MAnumHigh = MAdevice_perf_pt(40,30,10000,5e8)\n",
    "# MAnumlow = MAdevice_perf_al(40,100,8000,1e15)\n",
    "tranHigh = Tran_device_perf_pt (8000,5e8)\n",
    "transAll = MAnumHigh[2] + MAnumHigh[3]\n",
    "print(transAll)\n",
    "# tranLow = Tran_device_perf_al (8000,1e15)\n",
    "# print (\"\\nMass atenuation method high energy current is {:e} A, heat {:e} W.\\n low energy current {:e} A, heat {:e} W\\n\".format(MAnumHigh[0],MAnumHigh[1],MAnumlow[0],MAnumlow[1]))\n",
    "# print (\"Transmission method high energy current is {:e} A, heat {:e} W.\\n low energy current {:e} A, heat {:e} W\\n\".format(tranHigh[0], tranHigh[1], tranLow[0], tranLow[1]))\n",
    "print(\"{:1.3e}\".format(MAnumHigh[1]))\n",
    "print(\"{:1.3e}\".format(tranHigh[1]))"
   ]
  },
  {
   "cell_type": "code",
   "execution_count": 4,
   "metadata": {},
   "outputs": [
    {
     "name": "stdout",
     "output_type": "stream",
     "text": [
      "3.36e-03\n",
      "1.56e-01\n",
      "0.006472041749346125\n"
     ]
    }
   ],
   "source": [
    "# heat load calc for APS for Matt H 8/11/2023 \n",
    "\n",
    "# (diamon_thick, metal_thick, energy, flux)\n",
    "# syntax example: > MAnumHigh = MAdevice_perf_pt(40,30,10000,5e8)\n",
    "# returns: current, heatLoad, absPtall, absC \n",
    "\n",
    "MAnumHigh = MAdevice_perf_pt(45,20,23700,5.E15)\n",
    "current = MAnumHigh[0] * 1000\n",
    "print(\"{:1.2e}\".format(MAnumHigh[0])) ### current\n",
    "print(\"{:1.2e}\".format(MAnumHigh[1])) ### heat load in W \n",
    "transAll = MAnumHigh[2] + MAnumHigh[3] ### not a percent, and this is actually absorption \n",
    "print(transAll)\n",
    "\n"
   ]
  },
  {
   "cell_type": "code",
   "execution_count": 5,
   "metadata": {},
   "outputs": [
    {
     "name": "stdout",
     "output_type": "stream",
     "text": [
      "4.12e-04\n",
      "1.76e-02\n",
      "0.0008428961251785161\n"
     ]
    }
   ],
   "source": [
    "# heat load calc for Denis Kane APS \n",
    "# energy range 3 to 35 keV, flux estimate 1e14 to 2e15 photons/s in a 0.5x0.5 mm area \n",
    "\n",
    "# (diamon_thick, metal_thick, energy, flux)\n",
    "# syntax example: > MAnumHigh = MAdevice_perf_pt(40,30,10000,5e8)\n",
    "# returns: current, heatLoad, absPtall, absC \n",
    "\n",
    "MAnumHigh = MAdevice_perf_pt(45,20,50000,2E15)\n",
    "current = MAnumHigh[0] * 1000\n",
    "print(\"{:1.2e}\".format(MAnumHigh[0])) ### current\n",
    "print(\"{:1.2e}\".format(MAnumHigh[1])) ### heat load in W \n",
    "transAll = MAnumHigh[2] + MAnumHigh[3] ### not a percent, and this is actually absorption \n",
    "print(transAll)\n",
    "\n"
   ]
  },
  {
   "cell_type": "code",
   "execution_count": 6,
   "metadata": {},
   "outputs": [
    {
     "name": "stdout",
     "output_type": "stream",
     "text": [
      "2.04e-05\n",
      "4.81e-04\n",
      "0.8741054579839661\n"
     ]
    }
   ],
   "source": [
    "# heat load calc for Gosia at CLS\n",
    "# energy range 5 to 21 keV, flux estimate 5E12 photons/s in a 0.02x0.08 mm area \n",
    "\n",
    "\n",
    "# (diamon_thick, metal_thick, energy, flux)\n",
    "# syntax example: > MAnumHigh = MAdevice_perf_pt(40,30,10000,5e8)\n",
    "# returns: current, heatLoad, absPtall, absC \n",
    "\n",
    "# MAnumHigh = MAdevice_perf_pt(45,20,10000,5E12)\n",
    "MAnumHigh = MAdevice_perf_al(20,20,2000,1E12)\n",
    "current = MAnumHigh[0] * 1000\n",
    "print(\"{:1.2e}\".format(MAnumHigh[0])) ### current\n",
    "print(\"{:1.2e}\".format(MAnumHigh[1])) ### heat load in W \n",
    "transAll = MAnumHigh[2] + MAnumHigh[3] ### not a percent, and this is actually absorption \n",
    "print(transAll)\n",
    "\n"
   ]
  },
  {
   "cell_type": "code",
   "execution_count": 7,
   "metadata": {},
   "outputs": [],
   "source": [
    "# 278 W and the maximum power density will be 29 W/mrad2 (500mA ring current, B=0.99 T).\n",
    "# 5 - 25 keV "
   ]
  },
  {
   "cell_type": "code",
   "execution_count": 8,
   "metadata": {},
   "outputs": [
    {
     "name": "stdout",
     "output_type": "stream",
     "text": [
      "2.17e-09\n",
      "7.98e-08\n",
      "0.0006050556099993498\n"
     ]
    }
   ],
   "source": [
    "# heat load calc for Alexander at ???\n",
    "# -\tfixed energy of 60 keV\n",
    "# -\tbandwidth dE/E = 10^-4\n",
    "# -\tphoton flux 10^10 ph/sec\n",
    "# -\tbeamsize 100 µm - 1 mm\n",
    "# -\tposition (center of mass) accuracy < 10 µm\n",
    "# -\tintegrated intensity resolution < 1 %\n",
    "# -\tmild vacuum (10^-1 mbar, scroll pump)\n",
    "\n",
    "# (diamon_thick, metal_thick, energy, flux)\n",
    "# syntax example: > MAnumHigh = MAdevice_perf_pt(40,30,10000,5e8)\n",
    "# returns: current, heatLoad, absPtall, absC \n",
    "\n",
    "MAnumHigh = MAdevice_perf_pt(45,20,60000,1E10)\n",
    "# MAnumHigh = MAdevice_perf_al(20,20,60000,1E10)\n",
    "current = MAnumHigh[0] * 1000\n",
    "print(\"{:1.2e}\".format(MAnumHigh[0])) ### current\n",
    "print(\"{:1.2e}\".format(MAnumHigh[1])) ### heat load in W \n",
    "transAll = MAnumHigh[2] + MAnumHigh[3] ### not a percent, and this is actually absorption \n",
    "print(transAll)\n",
    "\n"
   ]
  },
  {
   "cell_type": "code",
   "execution_count": 14,
   "metadata": {},
   "outputs": [
    {
     "name": "stdout",
     "output_type": "stream",
     "text": [
      "1.67e-04\n",
      "4.27e-03\n",
      "1.1619834047096869\n"
     ]
    }
   ],
   "source": [
    "# heat load calc for Nicola at Elettra \n",
    "# -\t5-20 keV\n",
    "# -\tbandwidth dE/E = 10^-4\n",
    "# -\tphoton flux 10^12 - 10^13 ph/sec\n",
    "# -\tbeamsize 5x5um2 up to 50x50um2\n",
    "# pink beam \n",
    "\n",
    "\n",
    "# (diamon_thick, metal_thick, energy, flux)\n",
    "# syntax example: > MAnumHigh = MAdevice_perf_pt(40,30,10000,5e8)\n",
    "# returns: current, heatLoad, absPtall, absC \n",
    "\n",
    "MAnumHigh = MAdevice_perf_pt(45,20,1500,1E13)\n",
    "# MAnumHigh = MAdevice_perf_al(20,20,60000,1E10)\n",
    "current = MAnumHigh[0] * 1000\n",
    "print(\"{:1.2e}\".format(MAnumHigh[0])) ### current\n",
    "print(\"{:1.2e}\".format(MAnumHigh[1])) ### heat load in W \n",
    "transAll = MAnumHigh[2] + MAnumHigh[3] ### not a percent, and this is actually absorption \n",
    "print(transAll)\n",
    "\n"
   ]
  },
  {
   "cell_type": "code",
   "execution_count": 10,
   "metadata": {},
   "outputs": [
    {
     "name": "stdout",
     "output_type": "stream",
     "text": [
      "5.61e-04\n",
      "1.56e-02\n",
      "0.3112238911388734\n"
     ]
    }
   ],
   "source": [
    "# heat load calc for Pohang Accelerator white beam \n",
    "# -\t5-25 keV\n",
    "# -\tphoton flux 10^13 - 4*10^15 ph/sec\n",
    "# -\tbeamsize 5.721 mm x 2.620 mm \n",
    "# white beam \n",
    "\n",
    "\n",
    "# (diamon_thick, metal_thick, energy, flux)\n",
    "# syntax example: > MAnumHigh = MAdevice_perf_pt(40,30,10000,5e8)\n",
    "# returns: current, heatLoad, absPtall, absC \n",
    "\n",
    "MAnumHigh = MAdevice_perf_pt(45,30,5000,4.14E13)\n",
    "# MAnumHigh = MAdevice_perf_al(20,20,60000,1E10)\n",
    "current = MAnumHigh[0] * 1000\n",
    "print(\"{:1.2e}\".format(MAnumHigh[0])) ### current\n",
    "print(\"{:1.2e}\".format(MAnumHigh[1])) ### heat load in W \n",
    "transAll = MAnumHigh[2] + MAnumHigh[3] ### not a percent, and this is actually absorption \n",
    "print(transAll)"
   ]
  },
  {
   "cell_type": "code",
   "execution_count": 11,
   "metadata": {},
   "outputs": [
    {
     "name": "stdout",
     "output_type": "stream",
     "text": [
      "9.14e-03\n",
      "2.54e-01\n",
      "0.7795713332638723\n"
     ]
    }
   ],
   "source": [
    "# heat load calc for Pohang Accelerator white beam \n",
    "# -\t3.5-22 keV\n",
    "# -\tphoton flux 10^14 - 4*10^14 ph/sec\n",
    "# -\tbeamsize 500 x 50 um  \n",
    "\n",
    "\n",
    "# (diamon_thick in microns, metal_thick in nm, energy eV, flux in ph/s)\n",
    "# syntax example: > MAnumHigh = MAdevice_perf_pt(40,30,10000,5e8)\n",
    "# returns: current, heatLoad, absPtall, absC \n",
    "\n",
    "MAnumHigh = MAdevice_perf_pt(45,30,3500,4E14)\n",
    "# MAnumHigh = MAdevice_perf_al(20,20,60000,1E10)\n",
    "current = MAnumHigh[0] * 1000\n",
    "print(\"{:1.2e}\".format(MAnumHigh[0])) ### current in Amperes\n",
    "print(\"{:1.2e}\".format(MAnumHigh[1])) ### heat load in W \n",
    "transAll = MAnumHigh[2] + MAnumHigh[3] ### not a percent, and this is actually absorption \n",
    "print(transAll)"
   ]
  }
 ],
 "metadata": {
  "kernelspec": {
   "display_name": "Python 3",
   "language": "python",
   "name": "python3"
  },
  "language_info": {
   "codemirror_mode": {
    "name": "ipython",
    "version": 3
   },
   "file_extension": ".py",
   "mimetype": "text/x-python",
   "name": "python",
   "nbconvert_exporter": "python",
   "pygments_lexer": "ipython3",
   "version": "undefined.undefined.undefined"
  },
  "orig_nbformat": 4
 },
 "nbformat": 4,
 "nbformat_minor": 2
}
