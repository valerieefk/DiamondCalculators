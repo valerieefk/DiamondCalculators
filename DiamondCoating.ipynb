{
 "cells": [
  {
   "attachments": {},
   "cell_type": "markdown",
   "metadata": {},
   "source": [
    "# This is a code base to help in doing diamond coating"
   ]
  },
  {
   "cell_type": "code",
   "execution_count": 2,
   "metadata": {},
   "outputs": [],
   "source": [
    "def FindCenter (x1,x2,y1,y2):\n",
    "    xCent = x1/2 + x2/2\n",
    "    yCent = y1/2 + y2/2\n",
    "\n",
    "    print(\"X center is {}\\n \\rY center is {}\".format(xCent,yCent))"
   ]
  },
  {
   "attachments": {},
   "cell_type": "markdown",
   "metadata": {},
   "source": [
    "## Instructions for Mask Writer\n",
    "### Set Location and Focus\n",
    "1. First make sure mask file that one wants to use is uploaded in location 054 in machine\n",
    "1. Place substratre in center of platent and turn on vacuum\n",
    "1. Before loading set substrate thickness to ~1100 $\\mu m$ for mounted dimond on glass slide\n",
    "1. Adjust the focus using page $\\uparrow \\downarrow$ to focus shadow line on left\n",
    "1. Next enter alignment edge\n",
    "    - activate cross hair and left click on center to add alignement mark\n",
    "    - go to first alignment edge on top left of diamond and right click to set location\n",
    "    - then go to alignment section box and click edit and manualy enter x y coordinates\n",
    "    - repeat above for second location along top edge close to top right \n",
    "    - click view to make sure proper locations are set. repeat if wrong\n",
    "    - ignore all warnings \n",
    "1. Find center of diamond \n",
    "    - get coordinates of top left and bottom right of diamond.\n",
    "    - Enter coords into FindCenter \n",
    "    - enter those coordinates into set xy and click set\n",
    "1. Set plane focus\n",
    "    - go to m1-m3 focus section\n",
    "    - go to three points on substrate in triange pattern and focus\n",
    "    - onces focused select set location\n",
    "    - repeat for all 3\n",
    "1. Click go to center\n",
    "1. Change lens to make sure correct (mostly alwasy use lens 3 )\n",
    "1. set filter (using 30 % )\n",
    "### Writing a pattern\n",
    "1. Useing $\\rightarrow$ button in between menus to switch to write mode\n",
    "1. Ignore warnings\n",
    "1. Set which layer to write (mostly layer-2 in Sydor files)\n",
    "1. Set alignment options\n",
    "    - in drop down set 7-Alignmnent only\n",
    "    - click center x-y (*__double check center is same as center on focus side__*)\n",
    "    - D-step = z\n",
    "    - POS [$\\frac{mm}{s}$] 2-3 \n",
    "    - Directional strip = $\\checkmark$\n",
    "1. Set laser Gain with slider (14.5 or 352 $\\frac{mj}{cm^2}$ for 1813 resist )\n",
    "1. double check layer and all settings\n",
    "1. click go and hope for the best\n",
    "1. when done make sure back on lens 3 \n",
    "1. eject sample and turn of Vacuum\n",
    "\n",
    "\n"
   ]
  },
  {
   "cell_type": "code",
   "execution_count": 3,
   "metadata": {},
   "outputs": [
    {
     "name": "stdout",
     "output_type": "stream",
     "text": [
      "X center is 1001.15\n",
      "Y center is 1579.555\n"
     ]
    }
   ],
   "source": [
    "#Top Left\n",
    "x1 = -585.7\n",
    "y1 = 3099.5\n",
    "#Bottom Right\n",
    "x2 = 2588\n",
    "y2 = 59.61\n",
    "#########################\n",
    "FindCenter(x1,x2,y1,y2)"
   ]
  },
  {
   "cell_type": "code",
   "execution_count": 4,
   "metadata": {},
   "outputs": [
    {
     "name": "stdout",
     "output_type": "stream",
     "text": [
      "122723.0\n",
      "27.0\n"
     ]
    }
   ],
   "source": [
    "values = 105446/2 + 70000\n",
    "print (values)\n",
    "print(.15*180)"
   ]
  },
  {
   "cell_type": "code",
   "execution_count": 5,
   "metadata": {},
   "outputs": [
    {
     "name": "stdout",
     "output_type": "stream",
     "text": [
      "233333.33333333334\n",
      "232500.0\n",
      "264444.44444444444\n",
      "243425.92592592593\n",
      "263446\n"
     ]
    }
   ],
   "source": [
    "up = 220000\n",
    "\n",
    "print ((up*3+40000)/3)\n",
    "print ((up *6 + 75000)/6)\n",
    "print ((up* 9 +400000)/9)\n",
    "print (((up*3+40000)/3+(up *6 + 75000)/6 + (up* 9 +400000)/9)/3)\n",
    "print(120*150+2*122723)"
   ]
  }
 ],
 "metadata": {
  "kernelspec": {
   "display_name": "Python 3",
   "language": "python",
   "name": "python3"
  },
  "language_info": {
   "codemirror_mode": {
    "name": "ipython",
    "version": 3
   },
   "file_extension": ".py",
   "mimetype": "text/x-python",
   "name": "python",
   "nbconvert_exporter": "python",
   "pygments_lexer": "ipython3",
   "version": "3.11.2"
  },
  "orig_nbformat": 4,
  "vscode": {
   "interpreter": {
    "hash": "b0fa6594d8f4cbf19f97940f81e996739fb7646882a419484c72d19e05852a7e"
   }
  }
 },
 "nbformat": 4,
 "nbformat_minor": 2
}
