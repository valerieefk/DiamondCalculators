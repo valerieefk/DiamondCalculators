{
 "cells": [
  {
   "attachments": {},
   "cell_type": "markdown",
   "metadata": {},
   "source": [
    "# This is a code base to help in doing diamond coating"
   ]
  },
  {
   "cell_type": "code",
   "execution_count": 1,
   "metadata": {},
   "outputs": [],
   "source": [
    "def FindCenter (x1,x2,y1,y2):\n",
    "    xCent = x1/2 + x2/2\n",
    "    yCent = y1/2 + y2/2\n",
    "\n",
    "    print(\"X center is {}\\n \\rY center is {}\".format(xCent,yCent))"
   ]
  },
  {
   "attachments": {},
   "cell_type": "markdown",
   "metadata": {},
   "source": [
    "## Instructions for Mask Writer\n",
    "### Set Location and Focus\n",
    "1. First make sure mask file that one wants to use is uploaded in location 054 in machine\n",
    "1. Place substratre in center of platent and turn on vacuum\n",
    "1. Before loading set substrate thickness to ~1000 $\\mu m$ for mounted dimond on glass slide\n",
    "1. Push load button\n",
    "1. Adjust the focus using page $\\uparrow \\downarrow$ to focus shadow line on right\n",
    "1. Next enter alignment edge\n",
    "    - click ruler on top right of selection screen and then click mark\n",
    "    - left click in center to add measure mark\n",
    "    - activate cross hair and left click on center to add alignement mark\n",
    "    - go to first alignment edge on top left of diamond and right click to set location\n",
    "    - then go to alignment section box and click edit and manualy enter x y coordinates\n",
    "    - repeat above for second location along top edge close to top right \n",
    "    - click show to make sure proper locations are set. repeat if wrong\n",
    "    - ignore all warnings \n",
    "1. Find center of diamond \n",
    "    - get coordinates of top left and bottom right of diamond.\n",
    "    - Enter coords into FindCenter \n",
    "    - enter those coordinates into set xy and click go (Usually twice to make it go)\n",
    "1. Set plane focus\n",
    "    - go to m1-m3 focus section\n",
    "    - go to three points on substrate in triange pattern and focus at each\n",
    "    - onces focused select set location by setting pressing set M1-3 at each\n",
    "    - repeat for all 3\n",
    "1. Click go to center\n",
    "1. Change lens to make sure correct  and click match below lens set option(mostly alwasy use lens 3 )\n",
    "1. set filter (using 30 % )\n",
    "1. make sure use AB is selected next to focus plane\n",
    "### Writing a pattern\n",
    "1. Useing $\\rightarrow$ button in between menus to switch to write mode\n",
    "1. Ignore warnings\n",
    "1. Set which layer to write (mostly layer-2 in Sydor files)\n",
    "1. Set alignment options\n",
    "    - in drop down set 7-Alignmnent only\n",
    "    - click center x-y (*__double check center is same as center on focus side__*)\n",
    "    - D-step = 3\n",
    "    - POS [$\\frac{mm}{s}$] 2-3 \n",
    "    - Directional strip = $\\checkmark$\n",
    "1. Set laser Gain with slider (14.5 or 352 $\\frac{mj}{cm^2}$ for 1813 resist )\n",
    "1. double check layer and all settings\n",
    "1. click go and hope for the best\n",
    "1. when done make sure back on lens 3 \n",
    "1. eject sample and turn of Vacuum\n",
    "\n",
    "\n"
   ]
  },
  {
   "cell_type": "code",
   "execution_count": 16,
   "metadata": {},
   "outputs": [
    {
     "name": "stdout",
     "output_type": "stream",
     "text": [
      "X center is 679.8\n",
      "Y center is 869.4300000000001\n"
     ]
    }
   ],
   "source": [
    "#Top Left\n",
    "x1 = -852.9\n",
    "y1 = 2438.11\n",
    "#Bottom Right\n",
    "x2 = 2212.5\n",
    "y2 = -699.25\n",
    "#########################\n",
    "FindCenter(x1,x2,y1,y2)"
   ]
  }
 ],
 "metadata": {
  "kernelspec": {
   "display_name": "Python 3",
   "language": "python",
   "name": "python3"
  },
  "language_info": {
   "codemirror_mode": {
    "name": "ipython",
    "version": 3
   },
   "file_extension": ".py",
   "mimetype": "text/x-python",
   "name": "python",
   "nbconvert_exporter": "python",
   "pygments_lexer": "ipython3",
   "version": "3.11.2"
  },
  "orig_nbformat": 4,
  "vscode": {
   "interpreter": {
    "hash": "b0fa6594d8f4cbf19f97940f81e996739fb7646882a419484c72d19e05852a7e"
   }
  }
 },
 "nbformat": 4,
 "nbformat_minor": 2
}
