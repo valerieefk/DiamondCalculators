{
 "cells": [
  {
   "cell_type": "code",
   "execution_count": 1,
   "metadata": {},
   "outputs": [],
   "source": [
    "#DiamondCalc.py created 2/27/2023 by BWM and EGM\n",
    "#program to calculate heat load and current in diamond devices\n",
    "\n",
    "import numpy as np\n",
    "import os\n",
    "import matplotlib.pyplot as plt\n",
    "import math\n",
    "cwd = os.getcwd()\n",
    "\n",
    "##############################################\n",
    "#Get elemental data in and properly formed\n",
    "##############################################\n",
    "carbon = np.loadtxt((cwd + \"/sourceData/carbon.txt\"), dtype = float,comments =\"#\",)\n",
    "pt = np.loadtxt((cwd + \"/sourceData/pt.txt\"), dtype = float,comments =\"#\",)\n",
    "al = np.loadtxt((cwd + \"/sourceData/al.txt\"), dtype = float,comments =\"#\",)\n",
    "###############################################\n",
    "# Constants\n",
    "###############################################\n",
    "densC = 3.15 #g/cm^3\n",
    "densPt = 21.4 #g/cm^3\n",
    "densAl = 2.7 #g/cm^3\n",
    "enConv = 1.60218e-19 #eV per Joule\n",
    "coulPerElec =  6.28e18  #elec per s for amp\n",
    "micro_cm = 1e-4 # microns to cm conversion\n",
    "nano_cm = 1e-7 # nm to cm conversion\n",
    "ToMev= 1e-6\n",
    "freeCarrier = 13.2 #energy to make electorn whole pairs in diamond\n",
    "################################################\n",
    "\n",
    "\n",
    "def MAdevice_perf_al (diamon_thick, metal_thick,energy, flux):\n",
    "    bias = 10 #bias on dimaond\n",
    "    coefAl = np.interp((energy*ToMev), al[:,0], al[:,2])\n",
    "    coefC = np.interp((energy*ToMev), carbon[:,0], carbon[:,2])\n",
    "    transAl = (math.exp(-coefAl*metal_thick*nano_cm*densPt))\n",
    "    ptLayerAbs = (flux * (1-transAl))\n",
    "    flux_to_diamond =flux-ptLayerAbs\n",
    "    transC = (math.exp(-coefC*diamon_thick*micro_cm*densC))\n",
    "    cLayerAbs = flux_to_diamond * (1-transC)\n",
    "    current = (cLayerAbs * energy * enConv/ (freeCarrier))\n",
    "    absHeat = (ptLayerAbs * 2 + cLayerAbs) * energy * enConv\n",
    "    jouleHeat = current * bias\n",
    "    heatLoad = absHeat + jouleHeat \n",
    "    absAlall = (1-transAl) * 2\n",
    "    absC = 1-transC\n",
    "    return current , heatLoad, absAlall, absC\n",
    "\n",
    "def MAdevice_perf_pt (diamon_thick, metal_thick,energy, flux):\n",
    "    bias = 10 #bias on dimaond\n",
    "    coefC = np.interp((energy*ToMev), carbon[:,0], carbon[:,2])\n",
    "    coefPt = np.interp((energy*ToMev), pt[:,0], pt[:,2])\n",
    "    transPt = (math.exp(-coefPt*metal_thick*nano_cm*densPt))\n",
    "    ptLayerAbs = (flux * (1-transPt))\n",
    "    flux_to_diamond =flux-ptLayerAbs\n",
    "    transC = (math.exp(-coefC*diamon_thick*micro_cm*densC))\n",
    "    cLayerAbs = flux_to_diamond * (1-transC)\n",
    "    current = (cLayerAbs * energy * enConv/ (freeCarrier))\n",
    "    absHeat = (ptLayerAbs * 2 + cLayerAbs) * energy * enConv\n",
    "    jouleHeat = current * bias\n",
    "    totalHeat = absHeat + jouleHeat \n",
    "    absPtall = (1-transPt) * 2\n",
    "    absC = 1-transC\n",
    "    return current , totalHeat, absPtall, absC, absHeat\n",
    "\n",
    "\n",
    "\n",
    "\n",
    "   \n",
    "\n"
   ]
  },
  {
   "attachments": {},
   "cell_type": "markdown",
   "metadata": {},
   "source": [
    "## How to use\n",
    "MAdevice_perf_pt returns a tuple. \n",
    "- 0 = current\n",
    "- 1 = heatload \n",
    "- 2 = absorbtion in both metal layers\n",
    "- 3 = absorbtion in diamond"
   ]
  },
  {
   "cell_type": "code",
   "execution_count": 19,
   "metadata": {},
   "outputs": [],
   "source": [
    "ID4 = {2.75:1e15, 6.0:1e15, 27.0:1e13}\n",
    "ID8 = {4.7:1e15, 7.5:1e15, 25:1e13, 26.05:1e13}\n",
    "ID9 = {6:1e15, 30:1e13}"
   ]
  },
  {
   "cell_type": "code",
   "execution_count": 58,
   "metadata": {},
   "outputs": [
    {
     "name": "stdout",
     "output_type": "stream",
     "text": [
      "4ID device performance\n",
      "for Energy 2.75 keV with 1.00e+15 ph/s \n",
      "Expected Currnet 2.48e-02 A, Expected Heat 7.02e-01 W, Absorbed energy in Device 4.54e-01 W\n",
      "\n",
      "for Energy 6.0 keV with 1.00e+15 ph/s \n",
      "Expected Currnet 9.85e-03 A, Expected Heat 2.77e-01 W, Absorbed energy in Device 1.79e-01 W\n",
      "\n",
      "for Energy 27.0 keV with 1.00e+13 ph/s \n",
      "Expected Currnet 5.25e-06 A, Expected Heat 3.15e-04 W, Absorbed energy in Device 2.63e-04 W\n",
      "\n",
      "8ID device performance\n",
      "for Energy 4.7 keV with 1.00e+15 ph/s \n",
      "Expected Currnet 1.58e-02 A, Expected Heat 4.38e-01 W, Absorbed energy in Device 2.80e-01 W\n",
      "\n",
      "for Energy 7.5 keV with 1.00e+15 ph/s \n",
      "Expected Currnet 7.09e-03 A, Expected Heat 2.02e-01 W, Absorbed energy in Device 1.31e-01 W\n",
      "\n",
      "for Energy 25 keV with 1.00e+13 ph/s \n",
      "Expected Currnet 6.21e-06 A, Expected Heat 3.65e-04 W, Absorbed energy in Device 3.03e-04 W\n",
      "\n",
      "for Energy 26.05 keV with 1.00e+13 ph/s \n",
      "Expected Currnet 5.74e-06 A, Expected Heat 3.40e-04 W, Absorbed energy in Device 2.83e-04 W\n",
      "\n",
      "9ID device performance\n",
      "for Energy 6 keV with 1.00e+15 ph/s \n",
      "Expected Currnet 9.85e-03 A, Expected Heat 2.77e-01 W, Absorbed energy in Device 1.79e-01 W\n",
      "\n",
      "for Energy 30 keV with 1.00e+13 ph/s \n",
      "Expected Currnet 3.41e-06 A, Expected Heat 2.19e-04 W, Absorbed energy in Device 1.85e-04 W\n",
      "\n"
     ]
    }
   ],
   "source": [
    "BL = {\"4ID\":ID4, \"8ID\":ID8, \"9ID\":ID9}\n",
    "\n",
    "for line in BL:\n",
    "    print(\"{} device performance\".format(line))\n",
    "\n",
    "    for eneg in BL[line]:\n",
    "        eneV = eneg*1000\n",
    "        flux = BL[line][eneg]\n",
    "        MADevice = MAdevice_perf_pt(45,30,eneV,flux)\n",
    "        totPow = (MADevice[2]+MADevice[3]) * eneV * enConv\n",
    "        \n",
    "        print (\"for Energy {} keV with {:1.2e} ph/s \\nExpected Currnet {:1.2e} A, Expected Heat {:1.2e} W, Absorbed energy in Device {:1.2e} W\\n\".format(eneg, flux,MADevice[0], MADevice[1], MADevice[4]))\n",
    "        \n",
    "\n"
   ]
  },
  {
   "cell_type": "code",
   "execution_count": 3,
   "metadata": {},
   "outputs": [
    {
     "name": "stdout",
     "output_type": "stream",
     "text": [
      "for Energy 4.8 keV with 1.00e+25 ph/s \n",
      "Expected Currnet 1.51e+08 A, Expected Heat 4.20e+09 W, Absorbed energy in Device 2.69e+09 W\n",
      "\n",
      "for Energy 7 keV with 1.00e+15 ph/s \n",
      "Expected Currnet 8.29e-03 A, Expected Heat 2.34e-01 W, Absorbed energy in Device 1.52e-01 W\n",
      "\n",
      "for Energy 30 keV with 1.00e+13 ph/s \n",
      "Expected Currnet 3.41e-06 A, Expected Heat 2.19e-04 W, Absorbed energy in Device 1.85e-04 W\n",
      "\n",
      "for Energy 9 keV with 1.00e+15 ph/s \n",
      "Expected Currnet 4.74e-03 A, Expected Heat 1.38e-01 W, Absorbed energy in Device 9.02e-02 W\n",
      "\n"
     ]
    }
   ],
   "source": [
    "list2 = {4.8:1e25,7:1e15,30:1e13, 9:1e15}\n",
    "for eneg in list2:\n",
    "        eneV = eneg*1000\n",
    "        flux = list2[eneg]\n",
    "        MADevice = MAdevice_perf_pt(45,30,eneV,flux)\n",
    "        totPow = (MADevice[2]+MADevice[3]) * eneV * enConv\n",
    "        \n",
    "        print (\"for Energy {} keV with {:1.2e} ph/s \\nExpected Currnet {:1.2e} A, Expected Heat {:1.2e} W, Absorbed energy in Device {:1.2e} W\\n\".format(eneg, flux,MADevice[0], MADevice[1], MADevice[4]))"
   ]
  },
  {
   "cell_type": "code",
   "execution_count": 9,
   "metadata": {},
   "outputs": [
    {
     "name": "stdout",
     "output_type": "stream",
     "text": [
      "for Energy 3000 keV with 2.00e+15 ph/s \n",
      "Expected Currnet 4.63e-02 A, Expected Heat 1.30e+00 W, Absorbed energy in Device 8.35e-01 W\n",
      "\n"
     ]
    }
   ],
   "source": [
    "\n",
    "eneV = 3000\n",
    "flux = 2e15\n",
    "MADevice = MAdevice_perf_pt(45,30,eneV,flux)\n",
    "totPow = (MADevice[2]+MADevice[3]) * eneV * enConv\n",
    "\n",
    "print (\"for Energy {} keV with {:1.2e} ph/s \\nExpected Currnet {:1.2e} A, Expected Heat {:1.2e} W, Absorbed energy in Device {:1.2e} W\\n\".format(eneV, flux,MADevice[0], MADevice[1], MADevice[4]))"
   ]
  }
 ],
 "metadata": {
  "kernelspec": {
   "display_name": "Python 3",
   "language": "python",
   "name": "python3"
  },
  "language_info": {
   "codemirror_mode": {
    "name": "ipython",
    "version": 3
   },
   "file_extension": ".py",
   "mimetype": "text/x-python",
   "name": "python",
   "nbconvert_exporter": "python",
   "pygments_lexer": "ipython3",
   "version": "3.11.2"
  },
  "orig_nbformat": 4
 },
 "nbformat": 4,
 "nbformat_minor": 2
}
